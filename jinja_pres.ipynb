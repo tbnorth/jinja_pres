{
 "cells": [
  {
   "cell_type": "markdown",
   "metadata": {
    "slideshow": {
     "slide_type": "slide"
    }
   },
   "source": [
    "# Jinja templating system\n",
    "\n",
    "Terry N. Brown / Brown.TerryN@epa.gov\n",
    "\n",
    "## https://jinja.palletsprojects.com/en/2.10.x/\n",
    "\n",
    "## https://github.com/tbnorth/jinja_pres\n",
    "\n",
    "#### Template\n",
    "```html\n",
    "<title>{% block title %}{% endblock %}</title>\n",
    "<ul>\n",
    "{% for user in users %}\n",
    "  <li><a href=\"{{ user.url }}\">{{ user.username }}</a></li>\n",
    "{% endfor %}\n",
    "</ul>\n",
    "```\n",
    "#### Output\n",
    "```html\n",
    "<title>Links to users</title>\n",
    "<ul>\n",
    "  <li><a href=\"http://example.com/user/anne\">Anne</a></li>\n",
    "  <li><a href=\"http://example.com/user/bob\">Bob</a></li>\n",
    "  <li><a href=\"http://example.com/user/cal\">Cal</a></li>\n",
    "</ul>\n",
    "```\n",
    "(from Jinja docs. website)"
   ]
  },
  {
   "cell_type": "markdown",
   "metadata": {},
   "source": [
    "## Learn Jinja, learn (part of) Django\n",
    "\n",
    "Django is a ~full stack web framework for Python, Django's web page\n",
    "templating system is very similar to Jinja."
   ]
  },
  {
   "cell_type": "markdown",
   "metadata": {},
   "source": [
    "## Not just HTML\n",
    "\n",
    "Markdown uses\n",
    "```markdown\n",
    "![Figure caption](./path/to/figure.png){#fig:someLabel}\n",
    "```\n",
    "\n",
    "So a template like this:\n",
    "```markdown\n",
    "{% for mnth in range(1, 13) %}\n",
    "![Ten year average particle distribution from each source for\n",
    "{{D.calendar.month_name[mnth]}}.  Sources are 1-4, top tow, and\n",
    "6, 7, and \"all\", bottom row.\n",
    "]({{'./img/base/mnths/'+D.calendar.month_abbr[mnth]+'.png'}}){#fig:{{D.calendar.month_abbr[mnth]}}}\n",
    "{% endfor %}\n",
    "```\n",
    "\n",
    "Can insert 12 figures like this:\n",
    "```markdown\n",
    "![Ten year average particle distribution from each source for\n",
    "January.  Sources are 1-4, top tow, and\n",
    "6, 7, and \"all\", bottom row.\n",
    "](./img/base/mnths/Jan.png){#fig:Jan}\n",
    "(+ 11 more figures)\n",
    "```\n",
    "\n",
    "markdown ► jinja ► (intermediate markdown) ► pandoc ► PDF    "
   ]
  },
  {
   "cell_type": "markdown",
   "metadata": {},
   "source": [
    "## Reproducable research / automated reporting\n",
    "\n",
    "```markdown\n",
    "Final model results showed {{C.res.PO4ppm * 1000}} ppb of phosphate\n",
    "across the {{C.sites.n}} sites analyzed.  With an $r^2$ of\n",
    "{{C.res.r2}} we are...\n",
    "```\n",
    "\n",
    "Final model results showed 27 ppb of phosphate\n",
    "across the 12 sites analyzed.  With an r<sup>2</sup> of\n",
    "0.91 we are...\n"
   ]
  },
  {
   "cell_type": "markdown",
   "metadata": {},
   "source": [
    "## Anything text based\n",
    "\n",
    "E.g. replace `{{map_name}}` etc. in an SVG graphics file\n",
    "to produce [hundreds of maps](./site_00026.pdf).\n",
    "\n",
    "(Yes, [really](https://www.google.com/search?q=bogus%20point&cad=h))"
   ]
  },
  {
   "cell_type": "markdown",
   "metadata": {},
   "source": [
    "## An example"
   ]
  },
  {
   "cell_type": "code",
   "execution_count": 1,
   "metadata": {},
   "outputs": [
    {
     "name": "stdout",
     "output_type": "stream",
     "text": [
      "\n",
      "User list\n",
      "\n",
      "(data current Tue Oct  8 08:45:22 2019)\n",
      "\n",
      "\n",
      "11: Anne\n",
      "\n",
      "7: Bob\n",
      "\n"
     ]
    }
   ],
   "source": [
    "from jinja2 import Template\n",
    "import time\n",
    "\n",
    "# get data from database or other code results\n",
    "users = [{'name': \"Anne\", 'id': 11}, {'name': \"Bob\", 'id': 7}]\n",
    "asof = time.asctime()\n",
    "\n",
    "# template is just a string\n",
    "template = \"\"\"\n",
    "User list\n",
    "\n",
    "(data current {{asof}})\n",
    "\n",
    "{% for user in users %}\n",
    "{{user.id}}: {{user.name}}\n",
    "{% endfor %}\n",
    "\"\"\"\n",
    "\n",
    "# NOTE: user.id instead of user['id']\n",
    "\n",
    "# render the template\n",
    "template = Template(template)\n",
    "context = dict(users=users, asof=asof)\n",
    "result = template.render(context)  # also a string\n",
    "print(result)\n"
   ]
  },
  {
   "cell_type": "code",
   "execution_count": 2,
   "metadata": {},
   "outputs": [
    {
     "name": "stdout",
     "output_type": "stream",
     "text": [
      "\n",
      "User list\n",
      "\n",
      "(data current Tue Oct  8 08:45:22 2019)\n",
      "\n",
      "11: Anne\n",
      "7: Bob\n",
      "\n"
     ]
    }
   ],
   "source": [
    "# too many blank lines...\n",
    "template = \"\"\"\n",
    "User list\n",
    "\n",
    "(data current {{asof}})\n",
    "\n",
    "{% for user in users -%}\n",
    "{{user.id}}: {{user.name}}\n",
    "{% endfor %}\n",
    "\"\"\"\n",
    "print(Template(template).render(context))"
   ]
  },
  {
   "cell_type": "code",
   "execution_count": 3,
   "metadata": {},
   "outputs": [
    {
     "name": "stdout",
     "output_type": "stream",
     "text": [
      "\n",
      "001011: Anne\n",
      "001007: Bob\n",
      "\n"
     ]
    }
   ],
   "source": [
    "# Python expressions mostly work\n",
    "template = \"\"\"\n",
    "{% for user in users -%}\n",
    "{{\"%06d\" % (user.id+1000)}}: {{user.name}}\n",
    "{% endfor %}\n",
    "\"\"\"\n",
    "print(Template(template).render(context))"
   ]
  },
  {
   "cell_type": "markdown",
   "metadata": {},
   "source": [
    "### No computation in the template...\n",
    "\n",
    "But don't include computation (`user.id+1000`) in the template, it's\n",
    "considered bad practice, poor separation of concerns.\n",
    "\n",
    "## More Jinja tools..."
   ]
  },
  {
   "cell_type": "code",
   "execution_count": 4,
   "metadata": {},
   "outputs": [
    {
     "name": "stdout",
     "output_type": "stream",
     "text": [
      "\n",
      "  1 001011: Anne\n",
      "  2 001007: Bob\n",
      "  3 001011: Anne\n",
      "--------------------\n",
      "  4 001007: Bob\n",
      "  5 001011: Anne\n",
      "  6 001007: Bob\n",
      "--------------------\n",
      "\n"
     ]
    }
   ],
   "source": [
    "# Special loop info. variables, comments\n",
    "template = \"\"\"\n",
    "{% for user in users * 3 %}  {# triple user list -#}\n",
    "{{loop.index}} {{\"%06d\" % (user.id+1000)}}: {{user.name}}\n",
    "{{ loop.cycle('', '', '-'*20+'\\n') -}}\n",
    "{% endfor %}\n",
    "\"\"\"\n",
    "print(Template(template).render(context))"
   ]
  },
  {
   "cell_type": "code",
   "execution_count": 5,
   "metadata": {},
   "outputs": [
    {
     "name": "stdout",
     "output_type": "stream",
     "text": [
      "\n",
      "\n",
      "1 001011: Anne\n",
      "2 001007: Bob\n",
      "3 001011: Anne\n",
      "--------------------\n",
      "4 001007: Bob\n",
      "5 001011: Anne\n",
      "6 001007: Bob\n"
     ]
    }
   ],
   "source": [
    "# Another special loop info. variable, and an if / endif\n",
    "template = \"\"\"\n",
    "{% for user in users * 3 %}\n",
    "{{loop.index}} {{\"%06d\" % (user.id+1000)}}: {{user.name}}\n",
    "{%- if not loop.last %}{{ loop.cycle('', '', '\\n'+'-'*20) }}{% endif -%}\n",
    "{% endfor %}\n",
    "\"\"\"\n",
    "print(Template(template).render(context))"
   ]
  },
  {
   "cell_type": "markdown",
   "metadata": {},
   "source": [
    "### `loop.cycle()` is more commonly used in HTML\n",
    "\n",
    "```html\n",
    "<table>\n",
    "  <tr class='odd_row'>...\n",
    "  <tr class='even_row'>...\n",
    "```    "
   ]
  },
  {
   "cell_type": "code",
   "execution_count": 6,
   "metadata": {},
   "outputs": [
    {
     "name": "stdout",
     "output_type": "stream",
     "text": [
      "\n",
      "There are 2 users\n",
      "They are using 3.9 GB of storage\n"
     ]
    }
   ],
   "source": [
    "# Jinja uses \"filters\"\n",
    "context['size'] = 3867529846\n",
    "template = \"\"\"\n",
    "There are {{ users | length }} users\n",
    "They are using {{ size | filesizeformat }} of storage\n",
    "\"\"\"\n",
    "print(Template(template).render(context))"
   ]
  },
  {
   "cell_type": "markdown",
   "metadata": {},
   "source": [
    "## Template loaders\n",
    "Templates get long and don't belong in .py files"
   ]
  },
  {
   "cell_type": "code",
   "execution_count": 7,
   "metadata": {},
   "outputs": [
    {
     "name": "stdout",
     "output_type": "stream",
     "text": [
      "\n",
      "EPA Announces Partnership to Reduce Childhood Lead Exposure\n",
      "===========================================================\n",
      "\n",
      "10/03/2019\n",
      "\n",
      "This new MOU provides a framework for a coordinated approach between more than\n",
      "a dozen critical partners across the federal government, tribes, water\n",
      "utilities and the public health community. The commitments of the MOU support\n",
      "the Lead Action Plan, which provides a blueprint for reducing lead exposure and\n",
      "associated harms by working with a range of stakeholders, including states,\n",
      "tribes and local communities, along with businesses, property owners and\n",
      "parents. One existing effort that is further supported by this MOU is EPAâ€™s\n",
      "3Tsâ€”training, testing and taking actionâ€”for Reducing Lead in Drinking Water\n",
      "in School and Child Care Facilities.\n",
      "\n",
      "\n",
      "EPA Recognizes Leaders in Reducing Water Waste\n",
      "==============================================\n",
      "\n",
      "10/07/2019\n",
      "\n",
      "The City of Charlottesville (Va.) was presented its second Sustained Excellence\n",
      "Award for rebating WaterSense labeled toilets and providing University of\n",
      "Virginia student apartments with WaterSense labeled showerheads and faucet\n",
      "aerators, which will help save an estimated 60 million gallons of water\n",
      "annually.\n",
      "\n",
      "\n"
     ]
    }
   ],
   "source": [
    "from jinja2 import Environment, FileSystemLoader\n",
    "import json\n",
    "env = Environment(loader=FileSystemLoader(['.']))\n",
    "articles = json.load(open(\"articles.json\"))\n",
    "# 'articles.json' is a \"DB\" of articles, 'articles.txt' is the *template*\n",
    "print(env.get_template(\"article.txt\").render(articles=articles))\n"
   ]
  },
  {
   "cell_type": "markdown",
   "metadata": {},
   "source": [
    "## Blocks and inheritance\n",
    "\n",
    "**Note:** the `article_general.txt` and `article_gallery.txt` templates handle a single\n",
    "article, not a list like `article.txt`."
   ]
  },
  {
   "cell_type": "code",
   "execution_count": 8,
   "metadata": {},
   "outputs": [
    {
     "name": "stdout",
     "output_type": "stream",
     "text": [
      "EPA Recognizes Leaders in Reducing Water Waste\n",
      "==============================================\n",
      "\n",
      "10/07/2019\n",
      "\n",
      "The City of Charlottesville (Va.) was presented its second Sustained Excellence\n",
      "Award for rebating WaterSense labeled toilets and providing University of\n",
      "Virginia student apartments with WaterSense labeled showerheads and faucet\n",
      "aerators, which will help save an estimated 60 million gallons of water\n",
      "annually.\n",
      "Disclaimer: There is always a disclaimer.\n",
      "\n",
      "  Home | About | Contact \n"
     ]
    }
   ],
   "source": [
    "print(env.get_template(\"article_general.txt\").render(article=articles[1]))"
   ]
  },
  {
   "cell_type": "code",
   "execution_count": 9,
   "metadata": {},
   "outputs": [
    {
     "name": "stdout",
     "output_type": "stream",
     "text": [
      "EPA Recognizes Leaders in Reducing Water Waste\n",
      "==============================================\n",
      "\n",
      "10/07/2019\n",
      "\n",
      "The City of Charlottesville (Va.) was presented its second Sustained Excellence\n",
      "Award for rebating WaterSense labeled toilets and providing University of\n",
      "Virginia student apartments with WaterSense labeled showerheads and faucet\n",
      "aerators, which will help save an estimated 60 million gallons of water\n",
      "annually.\n",
      "\n",
      "Gallery\n",
      "^^^^^^^\n",
      "\n",
      "[Image: wastebin]\n",
      "[Image: plastic_bottle]\n",
      "\n",
      "\n",
      "Disclaimer: There is always a disclaimer.\n",
      "\n",
      "  Home | About | Contact | Download images\n",
      "\n"
     ]
    }
   ],
   "source": [
    "print(env.get_template(\"article_gallery.txt\").render(article=articles[1]))"
   ]
  },
  {
   "cell_type": "markdown",
   "metadata": {},
   "source": [
    "## You can make your own filters"
   ]
  },
  {
   "cell_type": "code",
   "execution_count": 10,
   "metadata": {},
   "outputs": [
    {
     "name": "stdout",
     "output_type": "stream",
     "text": [
      "\n",
      "There are 2 users\n",
      "They are using way too much storage\n",
      "---\n",
      "This is a template\n"
     ]
    }
   ],
   "source": [
    "from jinja2 import Environment, DictLoader\n",
    "\n",
    "def file_size_text(bytes):\n",
    "    return \"way too much\"\n",
    "\n",
    "template = \"\"\"\n",
    "There are {{ users | length }} users\n",
    "They are using {{ size | file_sz_txt }} storage\n",
    "\"\"\"\n",
    "templates = {\n",
    "    'main' : template,\n",
    "    'other': \"This is a template\"\n",
    "}\n",
    "\n",
    "env = Environment(loader=DictLoader(templates))\n",
    "env.filters['file_sz_txt'] = file_size_text\n",
    "\n",
    "print(env.get_template('main').render(context))\n",
    "print('---')\n",
    "print(env.get_template('other').render(context))\n"
   ]
  },
  {
   "cell_type": "markdown",
   "metadata": {},
   "source": [
    "## Handling undefined data"
   ]
  },
  {
   "cell_type": "code",
   "execution_count": 11,
   "metadata": {},
   "outputs": [
    {
     "name": "stdout",
     "output_type": "stream",
     "text": [
      "You should definitely NOT throw the switch.\n"
     ]
    }
   ],
   "source": [
    "template = \"You should {{status}} throw the switch.\"\n",
    "context['status'] = \"definitely NOT\"\n",
    "print(Template(template).render(context))"
   ]
  },
  {
   "cell_type": "code",
   "execution_count": 12,
   "metadata": {},
   "outputs": [
    {
     "name": "stdout",
     "output_type": "stream",
     "text": [
      "You should  throw the switch.\n"
     ]
    }
   ],
   "source": [
    "del context['status']  # status now undefined\n",
    "print(Template(template).render(context))"
   ]
  },
  {
   "cell_type": "code",
   "execution_count": 13,
   "metadata": {},
   "outputs": [
    {
     "ename": "UndefinedError",
     "evalue": "'status' is undefined",
     "output_type": "error",
     "traceback": [
      "\u001b[1;31m---------------------------------------------------------------------------\u001b[0m",
      "\u001b[1;31mUndefinedError\u001b[0m                            Traceback (most recent call last)",
      "\u001b[1;32m<ipython-input-13-bf84356a82e7>\u001b[0m in \u001b[0;36m<module>\u001b[1;34m\u001b[0m\n\u001b[0;32m      4\u001b[0m     \u001b[0mundefined\u001b[0m\u001b[1;33m=\u001b[0m\u001b[0mStrictUndefined\u001b[0m\u001b[1;33m,\u001b[0m\u001b[1;33m\u001b[0m\u001b[1;33m\u001b[0m\u001b[0m\n\u001b[0;32m      5\u001b[0m )\n\u001b[1;32m----> 6\u001b[1;33m \u001b[0mprint\u001b[0m\u001b[1;33m(\u001b[0m\u001b[0menv\u001b[0m\u001b[1;33m.\u001b[0m\u001b[0mget_template\u001b[0m\u001b[1;33m(\u001b[0m\u001b[1;34m'main'\u001b[0m\u001b[1;33m)\u001b[0m\u001b[1;33m.\u001b[0m\u001b[0mrender\u001b[0m\u001b[1;33m(\u001b[0m\u001b[0mcontext\u001b[0m\u001b[1;33m)\u001b[0m\u001b[1;33m)\u001b[0m\u001b[1;33m\u001b[0m\u001b[1;33m\u001b[0m\u001b[0m\n\u001b[0m",
      "\u001b[1;32m~\\local\\mc2\\envs\\jinja\\lib\\site-packages\\jinja2\\asyncsupport.py\u001b[0m in \u001b[0;36mrender\u001b[1;34m(self, *args, **kwargs)\u001b[0m\n\u001b[0;32m     74\u001b[0m     \u001b[1;32mdef\u001b[0m \u001b[0mrender\u001b[0m\u001b[1;33m(\u001b[0m\u001b[0mself\u001b[0m\u001b[1;33m,\u001b[0m \u001b[1;33m*\u001b[0m\u001b[0margs\u001b[0m\u001b[1;33m,\u001b[0m \u001b[1;33m**\u001b[0m\u001b[0mkwargs\u001b[0m\u001b[1;33m)\u001b[0m\u001b[1;33m:\u001b[0m\u001b[1;33m\u001b[0m\u001b[1;33m\u001b[0m\u001b[0m\n\u001b[0;32m     75\u001b[0m         \u001b[1;32mif\u001b[0m \u001b[1;32mnot\u001b[0m \u001b[0mself\u001b[0m\u001b[1;33m.\u001b[0m\u001b[0menvironment\u001b[0m\u001b[1;33m.\u001b[0m\u001b[0mis_async\u001b[0m\u001b[1;33m:\u001b[0m\u001b[1;33m\u001b[0m\u001b[1;33m\u001b[0m\u001b[0m\n\u001b[1;32m---> 76\u001b[1;33m             \u001b[1;32mreturn\u001b[0m \u001b[0moriginal_render\u001b[0m\u001b[1;33m(\u001b[0m\u001b[0mself\u001b[0m\u001b[1;33m,\u001b[0m \u001b[1;33m*\u001b[0m\u001b[0margs\u001b[0m\u001b[1;33m,\u001b[0m \u001b[1;33m**\u001b[0m\u001b[0mkwargs\u001b[0m\u001b[1;33m)\u001b[0m\u001b[1;33m\u001b[0m\u001b[1;33m\u001b[0m\u001b[0m\n\u001b[0m\u001b[0;32m     77\u001b[0m         \u001b[0mloop\u001b[0m \u001b[1;33m=\u001b[0m \u001b[0masyncio\u001b[0m\u001b[1;33m.\u001b[0m\u001b[0mget_event_loop\u001b[0m\u001b[1;33m(\u001b[0m\u001b[1;33m)\u001b[0m\u001b[1;33m\u001b[0m\u001b[1;33m\u001b[0m\u001b[0m\n\u001b[0;32m     78\u001b[0m         \u001b[1;32mreturn\u001b[0m \u001b[0mloop\u001b[0m\u001b[1;33m.\u001b[0m\u001b[0mrun_until_complete\u001b[0m\u001b[1;33m(\u001b[0m\u001b[0mself\u001b[0m\u001b[1;33m.\u001b[0m\u001b[0mrender_async\u001b[0m\u001b[1;33m(\u001b[0m\u001b[1;33m*\u001b[0m\u001b[0margs\u001b[0m\u001b[1;33m,\u001b[0m \u001b[1;33m**\u001b[0m\u001b[0mkwargs\u001b[0m\u001b[1;33m)\u001b[0m\u001b[1;33m)\u001b[0m\u001b[1;33m\u001b[0m\u001b[1;33m\u001b[0m\u001b[0m\n",
      "\u001b[1;32m~\\local\\mc2\\envs\\jinja\\lib\\site-packages\\jinja2\\environment.py\u001b[0m in \u001b[0;36mrender\u001b[1;34m(self, *args, **kwargs)\u001b[0m\n\u001b[0;32m   1006\u001b[0m         \u001b[1;32mexcept\u001b[0m \u001b[0mException\u001b[0m\u001b[1;33m:\u001b[0m\u001b[1;33m\u001b[0m\u001b[1;33m\u001b[0m\u001b[0m\n\u001b[0;32m   1007\u001b[0m             \u001b[0mexc_info\u001b[0m \u001b[1;33m=\u001b[0m \u001b[0msys\u001b[0m\u001b[1;33m.\u001b[0m\u001b[0mexc_info\u001b[0m\u001b[1;33m(\u001b[0m\u001b[1;33m)\u001b[0m\u001b[1;33m\u001b[0m\u001b[1;33m\u001b[0m\u001b[0m\n\u001b[1;32m-> 1008\u001b[1;33m         \u001b[1;32mreturn\u001b[0m \u001b[0mself\u001b[0m\u001b[1;33m.\u001b[0m\u001b[0menvironment\u001b[0m\u001b[1;33m.\u001b[0m\u001b[0mhandle_exception\u001b[0m\u001b[1;33m(\u001b[0m\u001b[0mexc_info\u001b[0m\u001b[1;33m,\u001b[0m \u001b[1;32mTrue\u001b[0m\u001b[1;33m)\u001b[0m\u001b[1;33m\u001b[0m\u001b[1;33m\u001b[0m\u001b[0m\n\u001b[0m\u001b[0;32m   1009\u001b[0m \u001b[1;33m\u001b[0m\u001b[0m\n\u001b[0;32m   1010\u001b[0m     \u001b[1;32mdef\u001b[0m \u001b[0mrender_async\u001b[0m\u001b[1;33m(\u001b[0m\u001b[0mself\u001b[0m\u001b[1;33m,\u001b[0m \u001b[1;33m*\u001b[0m\u001b[0margs\u001b[0m\u001b[1;33m,\u001b[0m \u001b[1;33m**\u001b[0m\u001b[0mkwargs\u001b[0m\u001b[1;33m)\u001b[0m\u001b[1;33m:\u001b[0m\u001b[1;33m\u001b[0m\u001b[1;33m\u001b[0m\u001b[0m\n",
      "\u001b[1;32m~\\local\\mc2\\envs\\jinja\\lib\\site-packages\\jinja2\\environment.py\u001b[0m in \u001b[0;36mhandle_exception\u001b[1;34m(self, exc_info, rendered, source_hint)\u001b[0m\n\u001b[0;32m    778\u001b[0m             \u001b[0mself\u001b[0m\u001b[1;33m.\u001b[0m\u001b[0mexception_handler\u001b[0m\u001b[1;33m(\u001b[0m\u001b[0mtraceback\u001b[0m\u001b[1;33m)\u001b[0m\u001b[1;33m\u001b[0m\u001b[1;33m\u001b[0m\u001b[0m\n\u001b[0;32m    779\u001b[0m         \u001b[0mexc_type\u001b[0m\u001b[1;33m,\u001b[0m \u001b[0mexc_value\u001b[0m\u001b[1;33m,\u001b[0m \u001b[0mtb\u001b[0m \u001b[1;33m=\u001b[0m \u001b[0mtraceback\u001b[0m\u001b[1;33m.\u001b[0m\u001b[0mstandard_exc_info\u001b[0m\u001b[1;33m\u001b[0m\u001b[1;33m\u001b[0m\u001b[0m\n\u001b[1;32m--> 780\u001b[1;33m         \u001b[0mreraise\u001b[0m\u001b[1;33m(\u001b[0m\u001b[0mexc_type\u001b[0m\u001b[1;33m,\u001b[0m \u001b[0mexc_value\u001b[0m\u001b[1;33m,\u001b[0m \u001b[0mtb\u001b[0m\u001b[1;33m)\u001b[0m\u001b[1;33m\u001b[0m\u001b[1;33m\u001b[0m\u001b[0m\n\u001b[0m\u001b[0;32m    781\u001b[0m \u001b[1;33m\u001b[0m\u001b[0m\n\u001b[0;32m    782\u001b[0m     \u001b[1;32mdef\u001b[0m \u001b[0mjoin_path\u001b[0m\u001b[1;33m(\u001b[0m\u001b[0mself\u001b[0m\u001b[1;33m,\u001b[0m \u001b[0mtemplate\u001b[0m\u001b[1;33m,\u001b[0m \u001b[0mparent\u001b[0m\u001b[1;33m)\u001b[0m\u001b[1;33m:\u001b[0m\u001b[1;33m\u001b[0m\u001b[1;33m\u001b[0m\u001b[0m\n",
      "\u001b[1;32m~\\local\\mc2\\envs\\jinja\\lib\\site-packages\\jinja2\\_compat.py\u001b[0m in \u001b[0;36mreraise\u001b[1;34m(tp, value, tb)\u001b[0m\n\u001b[0;32m     35\u001b[0m     \u001b[1;32mdef\u001b[0m \u001b[0mreraise\u001b[0m\u001b[1;33m(\u001b[0m\u001b[0mtp\u001b[0m\u001b[1;33m,\u001b[0m \u001b[0mvalue\u001b[0m\u001b[1;33m,\u001b[0m \u001b[0mtb\u001b[0m\u001b[1;33m=\u001b[0m\u001b[1;32mNone\u001b[0m\u001b[1;33m)\u001b[0m\u001b[1;33m:\u001b[0m\u001b[1;33m\u001b[0m\u001b[1;33m\u001b[0m\u001b[0m\n\u001b[0;32m     36\u001b[0m         \u001b[1;32mif\u001b[0m \u001b[0mvalue\u001b[0m\u001b[1;33m.\u001b[0m\u001b[0m__traceback__\u001b[0m \u001b[1;32mis\u001b[0m \u001b[1;32mnot\u001b[0m \u001b[0mtb\u001b[0m\u001b[1;33m:\u001b[0m\u001b[1;33m\u001b[0m\u001b[1;33m\u001b[0m\u001b[0m\n\u001b[1;32m---> 37\u001b[1;33m             \u001b[1;32mraise\u001b[0m \u001b[0mvalue\u001b[0m\u001b[1;33m.\u001b[0m\u001b[0mwith_traceback\u001b[0m\u001b[1;33m(\u001b[0m\u001b[0mtb\u001b[0m\u001b[1;33m)\u001b[0m\u001b[1;33m\u001b[0m\u001b[1;33m\u001b[0m\u001b[0m\n\u001b[0m\u001b[0;32m     38\u001b[0m         \u001b[1;32mraise\u001b[0m \u001b[0mvalue\u001b[0m\u001b[1;33m\u001b[0m\u001b[1;33m\u001b[0m\u001b[0m\n\u001b[0;32m     39\u001b[0m \u001b[1;33m\u001b[0m\u001b[0m\n",
      "\u001b[1;32m<template>\u001b[0m in \u001b[0;36mtop-level template code\u001b[1;34m()\u001b[0m\n",
      "\u001b[1;31mUndefinedError\u001b[0m: 'status' is undefined"
     ]
    }
   ],
   "source": [
    "from jinja2 import StrictUndefined\n",
    "env = Environment(\n",
    "    loader=DictLoader({'main': template}),\n",
    "    undefined=StrictUndefined,\n",
    ")\n",
    "print(env.get_template('main').render(context))"
   ]
  },
  {
   "cell_type": "code",
   "execution_count": 14,
   "metadata": {},
   "outputs": [
    {
     "name": "stdout",
     "output_type": "stream",
     "text": [
      "\n",
      "\n",
      "Await further instructions.\n",
      "\n"
     ]
    }
   ],
   "source": [
    "# You can also test if something's defined:\n",
    "template = \"\"\"\n",
    "{% if status is defined %}\n",
    "You should {{status}} throw the switch.\n",
    "{% else %}\n",
    "Await further instructions.\n",
    "{% endif %}\n",
    "\"\"\"\n",
    "print(Template(template).render(context))"
   ]
  },
  {
   "cell_type": "markdown",
   "metadata": {},
   "source": [
    "## More features\n",
    "\n",
    " - Stripping malicious HTML content.\n",
    " - Redefine `{{`, `{%` etc. for other applications.\n",
    " - Add other extensions.\n",
    " - Well documented."
   ]
  }
 ],
 "metadata": {
  "kernelspec": {
   "display_name": "Python 3",
   "language": "python",
   "name": "python3"
  },
  "language_info": {
   "codemirror_mode": {
    "name": "ipython",
    "version": 3
   },
   "file_extension": ".py",
   "mimetype": "text/x-python",
   "name": "python",
   "nbconvert_exporter": "python",
   "pygments_lexer": "ipython3",
   "version": "3.7.4"
  }
 },
 "nbformat": 4,
 "nbformat_minor": 4
}
